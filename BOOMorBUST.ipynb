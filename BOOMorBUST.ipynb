{
 "cells": [
  {
   "cell_type": "code",
   "execution_count": 187,
   "metadata": {},
   "outputs": [],
   "source": [
    "import os\n",
    "from pathlib import Path\n",
    "import pandas as pd\n",
    "from newsapi import NewsApiClient\n",
    "import nltk\n",
    "from nltk.sentiment.vader import SentimentIntensityAnalyzer\n",
    "from dotenv import load_dotenv\n",
    "load_dotenv()\n",
    "analyzer = SentimentIntensityAnalyzer()"
   ]
  },
  {
   "cell_type": "code",
   "execution_count": 188,
   "metadata": {},
   "outputs": [],
   "source": [
    "# news api for collecting data\n",
    "api_key = os.getenv(\"news_api\")\n",
    "newsapi = NewsApiClient(api_key=api_key)"
   ]
  },
  {
   "cell_type": "code",
   "execution_count": 189,
   "metadata": {},
   "outputs": [
    {
     "data": {
      "text/html": [
       "<div>\n",
       "<style scoped>\n",
       "    .dataframe tbody tr th:only-of-type {\n",
       "        vertical-align: middle;\n",
       "    }\n",
       "\n",
       "    .dataframe tbody tr th {\n",
       "        vertical-align: top;\n",
       "    }\n",
       "\n",
       "    .dataframe thead th {\n",
       "        text-align: right;\n",
       "    }\n",
       "</style>\n",
       "<table border=\"1\" class=\"dataframe\">\n",
       "  <thead>\n",
       "    <tr style=\"text-align: right;\">\n",
       "      <th></th>\n",
       "      <th>Symbol</th>\n",
       "      <th>Company Name</th>\n",
       "      <th>Price Performance (4 Weeks)</th>\n",
       "      <th>Sector</th>\n",
       "      <th>Market Capitalization</th>\n",
       "      <th>Binary</th>\n",
       "    </tr>\n",
       "  </thead>\n",
       "  <tbody>\n",
       "    <tr>\n",
       "      <th>0</th>\n",
       "      <td>RHHBF</td>\n",
       "      <td>Roche Holding AG</td>\n",
       "      <td>-5.28026</td>\n",
       "      <td>Health Care</td>\n",
       "      <td>$2.39T</td>\n",
       "      <td>1</td>\n",
       "    </tr>\n",
       "  </tbody>\n",
       "</table>\n",
       "</div>"
      ],
      "text/plain": [
       "  Symbol      Company Name  Price Performance (4 Weeks)       Sector  \\\n",
       "0  RHHBF  Roche Holding AG                     -5.28026  Health Care   \n",
       "\n",
       "  Market Capitalization  Binary  \n",
       "0                $2.39T       1  "
      ]
     },
     "execution_count": 189,
     "metadata": {},
     "output_type": "execute_result"
    }
   ],
   "source": [
    "# import our initial batch of 20 companies (10 bankrupt, 10 healthy)\n",
    "filepath = Path(\"../Project_2/Stocks_MasterList_Test.csv\")\n",
    "stocks_df = pd.read_csv(filepath, parse_dates=True, infer_datetime_format=True)\n",
    "stocks_df.head(41)"
   ]
  },
  {
   "cell_type": "code",
   "execution_count": 190,
   "metadata": {},
   "outputs": [
    {
     "data": {
      "text/html": [
       "<div>\n",
       "<style scoped>\n",
       "    .dataframe tbody tr th:only-of-type {\n",
       "        vertical-align: middle;\n",
       "    }\n",
       "\n",
       "    .dataframe tbody tr th {\n",
       "        vertical-align: top;\n",
       "    }\n",
       "\n",
       "    .dataframe thead th {\n",
       "        text-align: right;\n",
       "    }\n",
       "</style>\n",
       "<table border=\"1\" class=\"dataframe\">\n",
       "  <thead>\n",
       "    <tr style=\"text-align: right;\">\n",
       "      <th></th>\n",
       "      <th>Symbol</th>\n",
       "      <th>Company Name</th>\n",
       "    </tr>\n",
       "  </thead>\n",
       "  <tbody>\n",
       "    <tr>\n",
       "      <th>0</th>\n",
       "      <td>RHHBF</td>\n",
       "      <td>Roche Holding AG</td>\n",
       "    </tr>\n",
       "  </tbody>\n",
       "</table>\n",
       "</div>"
      ],
      "text/plain": [
       "  Symbol      Company Name\n",
       "0  RHHBF  Roche Holding AG"
      ]
     },
     "execution_count": 190,
     "metadata": {},
     "output_type": "execute_result"
    }
   ],
   "source": [
    "company_info_df = stocks_df[['Symbol', 'Company Name']].copy()\n",
    "company_info_df.head()"
   ]
  },
  {
   "cell_type": "code",
   "execution_count": 191,
   "metadata": {},
   "outputs": [
    {
     "name": "stdout",
     "output_type": "stream",
     "text": [
      "['RHHBF AND Roche Holding AG']\n"
     ]
    }
   ],
   "source": [
    "search_list = []\n",
    "\n",
    "for index, row in company_info_df.iterrows():\n",
    "    ticker = row['Symbol']\n",
    "    company_name = row['Company Name']\n",
    "    search_string = ticker + ' ' + \"AND\" + ' ' + company_name\n",
    "    search_list.append(search_string)\n",
    "\n",
    "print(search_list)"
   ]
  },
  {
   "cell_type": "code",
   "execution_count": 193,
   "metadata": {},
   "outputs": [
    {
     "name": "stdout",
     "output_type": "stream",
     "text": [
      "           name  compound  positive  negative   neutral\n",
      "0      facebook  0.057596  0.055582  0.038847  0.905592\n",
      "1         apple  0.129631  0.062559  0.031287  0.906169\n",
      "2         tesla  0.135232  0.061614  0.029526  0.905457\n",
      "3        google  0.158823  0.065476  0.028667  0.903321\n",
      "4      palantir  0.170719  0.068208  0.028148  0.901574\n",
      "5           amc  0.179199  0.070910  0.029000  0.898372\n",
      "6        amazon  0.204182  0.079820  0.030685  0.888019\n",
      "7       netflix  0.224505  0.084184  0.030235  0.884294\n",
      "8          at&t  0.213393  0.081505  0.029987  0.887369\n",
      "9        nvidia  0.215711  0.081997  0.030307  0.886668\n",
      "10       pfizer  0.205034  0.078043  0.029287  0.891735\n",
      "11      moderna  0.197311  0.075021  0.028075  0.896047\n",
      "12       nikola  0.192558  0.073933  0.028195  0.897081\n",
      "13  beyond meat  0.191310  0.073452  0.028245  0.897564\n",
      "14     gamestop  0.193367  0.073162  0.027607  0.898540\n",
      "15    starbucks  0.192852  0.073118  0.027627  0.898603\n",
      "16  wells fargo  0.196081  0.073805  0.027400  0.898179\n",
      "17   salesforce  0.198923  0.073951  0.026748  0.898719\n",
      "18    microsoft  0.193428  0.072986  0.027135  0.899327\n",
      "19      verizon  0.190732  0.071815  0.026674  0.900989\n"
     ]
    }
   ],
   "source": [
    "# GME,AAPL,TSLA,FB,PFE,PLTR,AMC,AMZN,GOOGL,NFLX,MSFT,NVDA,T,SBUX,CRM,CMG,WFC,MRNA,BYND,NKLA\n",
    "\n",
    "# used this list to test stocks, given stocks only work with newsapi if they are common\n",
    "search_list = ['facebook', \n",
    "               'apple', \n",
    "               'tesla', \n",
    "               'google', \n",
    "               'palantir', \n",
    "               'amc', \n",
    "               'amazon', \n",
    "               'netflix', \n",
    "               'at&t', \n",
    "               'nvidia', \n",
    "               'pfizer', \n",
    "               'moderna', \n",
    "               'nikola', \n",
    "               'beyond meat', \n",
    "               'gamestop', \n",
    "               'starbucks', \n",
    "               'wells fargo', \n",
    "               'salesforce', \n",
    "               'microsoft',\n",
    "               'verizon']\n",
    "\n",
    "# begin the actual function for NLP\n",
    "final_sentiment_df = pd.DataFrame(columns=['name', 'compound', 'positive', 'negative', 'neutral'])\n",
    "company_sentiments = []\n",
    "\n",
    "for search_string in search_list:\n",
    "    company_headlines = newsapi.get_everything(\n",
    "        q = search_string, \n",
    "        language = \"en\", \n",
    "        page_size = 100,\n",
    "        sort_by = \"relevancy\")\n",
    "\n",
    "    for article in company_headlines[\"articles\"]:\n",
    "        try: \n",
    "            text = article[\"content\"]\n",
    "            date = article[\"publishedAt\"][:10] \n",
    "            sentiment = analyzer.polarity_scores(text)\n",
    "            compound = sentiment[\"compound\"]\n",
    "            pos = sentiment[\"pos\"]\n",
    "            neu = sentiment[\"neu\"]\n",
    "            neg = sentiment[\"neg\"]\n",
    "        \n",
    "            company_sentiments.append({\n",
    "                \"text\": text,\n",
    "                \"date\": date,\n",
    "                \"compound\": compound,\n",
    "                \"positive\": pos,\n",
    "                \"negative\": neg,\n",
    "                \"neutral\": neu})\n",
    "        except AttributeError:\n",
    "            pass\n",
    "            \n",
    "    sentiment_df = pd.DataFrame(company_sentiments) \n",
    "    cols = [\"date\", \"text\", \"compound\", \"positive\", \"negative\", \"neutral\"]\n",
    "    sentiment_df = sentiment_df[cols]\n",
    "    sentiment_stats_df = sentiment_df.describe()\n",
    "    sentiment_stats_df.reset_index(drop=True, inplace=True)\n",
    "    \n",
    "    not_final_sentiment_df = pd.DataFrame()\n",
    "    not_final_sentiment_df[\"name\"] = [search_string]\n",
    "    not_final_sentiment_df[\"compound\"] = [sentiment_stats_df.loc[1]['compound']]\n",
    "    not_final_sentiment_df[\"positive\"] = [sentiment_stats_df.loc[1]['positive']]\n",
    "    not_final_sentiment_df[\"negative\"] = [sentiment_stats_df.loc[1]['negative']]\n",
    "    not_final_sentiment_df[\"neutral\"] = [sentiment_stats_df.loc[1]['neutral']]\n",
    "    \n",
    "    final_sentiment_df = final_sentiment_df.append(not_final_sentiment_df, ignore_index=True)\n",
    "    \n",
    "print(final_sentiment_df)"
   ]
  },
  {
   "cell_type": "code",
   "execution_count": null,
   "metadata": {},
   "outputs": [],
   "source": []
  },
  {
   "cell_type": "code",
   "execution_count": null,
   "metadata": {},
   "outputs": [],
   "source": []
  },
  {
   "cell_type": "code",
   "execution_count": null,
   "metadata": {},
   "outputs": [],
   "source": []
  },
  {
   "cell_type": "code",
   "execution_count": null,
   "metadata": {},
   "outputs": [],
   "source": []
  },
  {
   "cell_type": "code",
   "execution_count": null,
   "metadata": {},
   "outputs": [],
   "source": []
  },
  {
   "cell_type": "code",
   "execution_count": null,
   "metadata": {},
   "outputs": [],
   "source": []
  },
  {
   "cell_type": "code",
   "execution_count": null,
   "metadata": {},
   "outputs": [],
   "source": []
  },
  {
   "cell_type": "code",
   "execution_count": null,
   "metadata": {},
   "outputs": [],
   "source": []
  },
  {
   "cell_type": "code",
   "execution_count": null,
   "metadata": {},
   "outputs": [],
   "source": []
  }
 ],
 "metadata": {
  "kernelspec": {
   "display_name": "Python 3",
   "language": "python",
   "name": "python3"
  },
  "language_info": {
   "codemirror_mode": {
    "name": "ipython",
    "version": 3
   },
   "file_extension": ".py",
   "mimetype": "text/x-python",
   "name": "python",
   "nbconvert_exporter": "python",
   "pygments_lexer": "ipython3",
   "version": "3.7.7"
  }
 },
 "nbformat": 4,
 "nbformat_minor": 4
}
