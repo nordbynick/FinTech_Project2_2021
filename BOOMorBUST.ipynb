{
 "cells": [
  {
   "cell_type": "code",
   "execution_count": 20,
   "metadata": {},
   "outputs": [],
   "source": [
    "import os\n",
    "from pathlib import Path\n",
    "import pandas as pd\n",
    "from newsapi import NewsApiClient\n",
    "import nltk\n",
    "from nltk.sentiment.vader import SentimentIntensityAnalyzer\n",
    "from dotenv import load_dotenv\n",
    "load_dotenv()\n",
    "analyzer = SentimentIntensityAnalyzer()"
   ]
  },
  {
   "cell_type": "code",
   "execution_count": 21,
   "metadata": {},
   "outputs": [],
   "source": [
    "# news api for collecting data\n",
    "api_key = os.getenv(\"news_api\")\n",
    "newsapi = NewsApiClient(api_key=api_key)"
   ]
  },
  {
   "cell_type": "code",
   "execution_count": 26,
   "metadata": {},
   "outputs": [
    {
     "data": {
      "text/html": [
       "<div>\n",
       "<style scoped>\n",
       "    .dataframe tbody tr th:only-of-type {\n",
       "        vertical-align: middle;\n",
       "    }\n",
       "\n",
       "    .dataframe tbody tr th {\n",
       "        vertical-align: top;\n",
       "    }\n",
       "\n",
       "    .dataframe thead th {\n",
       "        text-align: right;\n",
       "    }\n",
       "</style>\n",
       "<table border=\"1\" class=\"dataframe\">\n",
       "  <thead>\n",
       "    <tr style=\"text-align: right;\">\n",
       "      <th></th>\n",
       "      <th>Symbol</th>\n",
       "      <th>Company Name</th>\n",
       "      <th>Price Performance (4 Weeks)</th>\n",
       "      <th>Sector</th>\n",
       "      <th>Market Capitalization</th>\n",
       "      <th>Binary</th>\n",
       "    </tr>\n",
       "  </thead>\n",
       "  <tbody>\n",
       "    <tr>\n",
       "      <th>0</th>\n",
       "      <td>Test</td>\n",
       "      <td>Test</td>\n",
       "      <td>Test</td>\n",
       "      <td>Test</td>\n",
       "      <td>Test</td>\n",
       "      <td>Test</td>\n",
       "    </tr>\n",
       "  </tbody>\n",
       "</table>\n",
       "</div>"
      ],
      "text/plain": [
       "  Symbol Company Name Price Performance (4 Weeks) Sector  \\\n",
       "0   Test         Test                        Test   Test   \n",
       "\n",
       "  Market Capitalization Binary  \n",
       "0                  Test   Test  "
      ]
     },
     "execution_count": 26,
     "metadata": {},
     "output_type": "execute_result"
    }
   ],
   "source": [
    "# import our initial batch of 20 companies (10 bankrupt, 10 healthy)\n",
    "filepath = Path(\"../Project_2/Stocks_MasterList_Test.csv\")\n",
    "stocks_df = pd.read_csv(filepath, parse_dates=True, infer_datetime_format=True)\n",
    "stocks_df.head()"
   ]
  },
  {
   "cell_type": "code",
   "execution_count": 23,
   "metadata": {},
   "outputs": [
    {
     "data": {
      "text/html": [
       "<div>\n",
       "<style scoped>\n",
       "    .dataframe tbody tr th:only-of-type {\n",
       "        vertical-align: middle;\n",
       "    }\n",
       "\n",
       "    .dataframe tbody tr th {\n",
       "        vertical-align: top;\n",
       "    }\n",
       "\n",
       "    .dataframe thead th {\n",
       "        text-align: right;\n",
       "    }\n",
       "</style>\n",
       "<table border=\"1\" class=\"dataframe\">\n",
       "  <thead>\n",
       "    <tr style=\"text-align: right;\">\n",
       "      <th></th>\n",
       "      <th>Symbol</th>\n",
       "      <th>Company Name</th>\n",
       "    </tr>\n",
       "  </thead>\n",
       "  <tbody>\n",
       "    <tr>\n",
       "      <th>0</th>\n",
       "      <td>Test</td>\n",
       "      <td>Test</td>\n",
       "    </tr>\n",
       "  </tbody>\n",
       "</table>\n",
       "</div>"
      ],
      "text/plain": [
       "  Symbol Company Name\n",
       "0   Test         Test"
      ]
     },
     "execution_count": 23,
     "metadata": {},
     "output_type": "execute_result"
    }
   ],
   "source": [
    "company_info_df = stocks_df[['Symbol', 'Company Name']].copy()\n",
    "company_info_df.head()"
   ]
  },
  {
   "cell_type": "code",
   "execution_count": 24,
   "metadata": {},
   "outputs": [
    {
     "name": "stdout",
     "output_type": "stream",
     "text": [
      "['Test AND Test']\n"
     ]
    }
   ],
   "source": [
    "search_list = []\n",
    "\n",
    "for index, row in company_info_df.iterrows():\n",
    "    ticker = row['Symbol']\n",
    "    company_name = row['Company Name']\n",
    "    search_string = ticker + ' ' + \"AND\" + ' ' + company_name\n",
    "    search_list.append(search_string)\n",
    "\n",
    "print(search_list)"
   ]
  },
  {
   "cell_type": "code",
   "execution_count": 16,
   "metadata": {},
   "outputs": [
    {
     "name": "stdout",
     "output_type": "stream",
     "text": [
      "          name  compound  positive  negative   neutral\n",
      "0     facebook  0.079503  0.054388  0.034112  0.911541\n",
      "1        apple  0.113186  0.057615  0.030918  0.911482\n",
      "2        tesla  0.118182  0.057990  0.030068  0.908539\n",
      "3       google  0.143941  0.062779  0.029588  0.905092\n",
      "4     palantir  0.153429  0.064429  0.029014  0.904505\n",
      "..         ...       ...       ...       ...       ...\n",
      "90  serviceNow  0.183240  0.075081  0.030655  0.894028\n",
      "91     fireeye  0.180912  0.075055  0.031120  0.893592\n",
      "92  proofpoint  0.178847  0.075045  0.031633  0.893090\n",
      "93      qualys  0.177082  0.075070  0.032103  0.892485\n",
      "94      fastly  0.177527  0.075252  0.032078  0.892332\n",
      "\n",
      "[95 rows x 5 columns]\n"
     ]
    }
   ],
   "source": [
    "# using this list to test stocks, given stocks only work with newsapi if they are common\n",
    "\n",
    "search_list = ['facebook', \n",
    "               'apple', \n",
    "               'tesla', \n",
    "               'google', \n",
    "               'palantir', \n",
    "               'amc', \n",
    "               'amazon', \n",
    "               'netflix', \n",
    "               'at&t', \n",
    "               'nvidia', \n",
    "               'pfizer', \n",
    "               'moderna', \n",
    "               'nikola', \n",
    "               'beyond meat', \n",
    "               'gamestop', \n",
    "               'starbucks', \n",
    "               'wells fargo', \n",
    "               'salesforce', \n",
    "               'microsoft',\n",
    "               'verizon',    \n",
    "               'carnival cruise',\n",
    "               'macys',\n",
    "               'nordstrom',\n",
    "               'teladoc',\n",
    "               'norwegian cruise',\n",
    "               'peloton',\n",
    "               'lululemon',\n",
    "               'wayfair',\n",
    "               'chevron',\n",
    "               'royal caribbean cruise',\n",
    "               'softbank',\n",
    "               'astraZeneca',\n",
    "               'johnson & johnson',\n",
    "               'twitter',\n",
    "               'costco',\n",
    "               'zillow',\n",
    "               'gilead',\n",
    "               'boeing',\n",
    "               'okta',\n",
    "               'nike',\n",
    "               'home depot',\n",
    "               'shopify',\n",
    "               'uber',\n",
    "               'lyft',\n",
    "               'doordash',\n",
    "               'airbnb',\n",
    "               'paypal',\n",
    "               'snowflake',\n",
    "               'quantumscape',\n",
    "               'activision',\n",
    "               'draftKings',\n",
    "               'lordstown',\n",
    "               'walgreens',\n",
    "               'spotify',\n",
    "               'fubotv',\n",
    "               'northrop grumman',\n",
    "               'berkshire hathaway',\n",
    "               'cisco',\n",
    "               'ebay',\n",
    "               'qualcomm',\n",
    "               'corning',\n",
    "               'oracle',\n",
    "               'intel',\n",
    "               'seagate',\n",
    "               'nextera',\n",
    "               'zscaler',\n",
    "               'crowdstrike',\n",
    "               'redfin',\n",
    "               'roblox',\n",
    "               'citigroup',\n",
    "               'docusign',\n",
    "               'amgen',\n",
    "               'regeneron',\n",
    "               'medtronic',\n",
    "               'microsoft',\n",
    "               'arcelormittal',\n",
    "               'mattel',\n",
    "               'schlumberger',\n",
    "               'ford',\n",
    "               'intuit',\n",
    "               'pepsi',\n",
    "               'stryker',\n",
    "               'walmart',\n",
    "               'hasbro',\n",
    "               'novartis',\n",
    "               'toyota',\n",
    "               'mastercard',\n",
    "               'fortinet',\n",
    "               'groupon',\n",
    "               'autodesk',\n",
    "               'serviceNow',\n",
    "               'fireeye',\n",
    "               'proofpoint',\n",
    "               'qualys',\n",
    "               'fastly']\n",
    "\n",
    "# begin the actual function for NLP\n",
    "final_sentiment_df = pd.DataFrame(columns=['name', 'compound', 'positive', 'negative', 'neutral'])\n",
    "company_sentiments = []\n",
    "\n",
    "# after having run the our NLP function on the list below, I am applying the \"#\" so it does not run everytime we test the code\n",
    "\n",
    "#for search_string in search_list:\n",
    "    #company_headlines = newsapi.get_everything(\n",
    "        q = search_string, \n",
    "        language = \"en\", \n",
    "        page_size = 100,\n",
    "        sort_by = \"relevancy\")\n",
    "\n",
    "    for article in company_headlines[\"articles\"]:\n",
    "        try: \n",
    "            text = article[\"content\"]\n",
    "            date = article[\"publishedAt\"][:10] \n",
    "            sentiment = analyzer.polarity_scores(text)\n",
    "            compound = sentiment[\"compound\"]\n",
    "            pos = sentiment[\"pos\"]\n",
    "            neu = sentiment[\"neu\"]\n",
    "            neg = sentiment[\"neg\"]\n",
    "        \n",
    "            company_sentiments.append({\n",
    "                \"text\": text,\n",
    "                \"date\": date,\n",
    "                \"compound\": compound,\n",
    "                \"positive\": pos,\n",
    "                \"negative\": neg,\n",
    "                \"neutral\": neu})\n",
    "        except AttributeError:\n",
    "            pass\n",
    "            \n",
    "    sentiment_df = pd.DataFrame(company_sentiments) \n",
    "    cols = [\"date\", \"text\", \"compound\", \"positive\", \"negative\", \"neutral\"]\n",
    "    sentiment_df = sentiment_df[cols]\n",
    "    sentiment_stats_df = sentiment_df.describe()\n",
    "    sentiment_stats_df.reset_index(drop=True, inplace=True)\n",
    "    \n",
    "    not_final_sentiment_df = pd.DataFrame()\n",
    "    not_final_sentiment_df[\"name\"] = [search_string]\n",
    "    not_final_sentiment_df[\"compound\"] = [sentiment_stats_df.loc[1]['compound']]\n",
    "    not_final_sentiment_df[\"positive\"] = [sentiment_stats_df.loc[1]['positive']]\n",
    "    not_final_sentiment_df[\"negative\"] = [sentiment_stats_df.loc[1]['negative']]\n",
    "    not_final_sentiment_df[\"neutral\"] = [sentiment_stats_df.loc[1]['neutral']]\n",
    "    \n",
    "    final_sentiment_df = final_sentiment_df.append(not_final_sentiment_df, ignore_index=True)\n",
    "    \n",
    "print(final_sentiment_df)"
   ]
  },
  {
   "cell_type": "code",
   "execution_count": 25,
   "metadata": {},
   "outputs": [],
   "source": [
    "# export to csv so we can build a concrete data set to work off of for our model building\n",
    "# final_sentiment_df.to_csv(r'../Project_2/final_sentiment_df.csv')"
   ]
  },
  {
   "cell_type": "code",
   "execution_count": 34,
   "metadata": {},
   "outputs": [
    {
     "data": {
      "text/html": [
       "<div>\n",
       "<style scoped>\n",
       "    .dataframe tbody tr th:only-of-type {\n",
       "        vertical-align: middle;\n",
       "    }\n",
       "\n",
       "    .dataframe tbody tr th {\n",
       "        vertical-align: top;\n",
       "    }\n",
       "\n",
       "    .dataframe thead th {\n",
       "        text-align: right;\n",
       "    }\n",
       "</style>\n",
       "<table border=\"1\" class=\"dataframe\">\n",
       "  <thead>\n",
       "    <tr style=\"text-align: right;\">\n",
       "      <th></th>\n",
       "      <th>name</th>\n",
       "      <th>compound</th>\n",
       "      <th>positive</th>\n",
       "      <th>negative</th>\n",
       "      <th>neutral</th>\n",
       "      <th>sector</th>\n",
       "      <th>market cap</th>\n",
       "      <th>target</th>\n",
       "    </tr>\n",
       "  </thead>\n",
       "  <tbody>\n",
       "    <tr>\n",
       "      <th>0</th>\n",
       "      <td>facebook</td>\n",
       "      <td>0.079503</td>\n",
       "      <td>0.054388</td>\n",
       "      <td>0.034112</td>\n",
       "      <td>0.911541</td>\n",
       "      <td>Communication Services</td>\n",
       "      <td>827</td>\n",
       "      <td>1</td>\n",
       "    </tr>\n",
       "    <tr>\n",
       "      <th>1</th>\n",
       "      <td>apple</td>\n",
       "      <td>0.113186</td>\n",
       "      <td>0.057615</td>\n",
       "      <td>0.030918</td>\n",
       "      <td>0.911482</td>\n",
       "      <td>Information Technology</td>\n",
       "      <td>2019</td>\n",
       "      <td>0</td>\n",
       "    </tr>\n",
       "    <tr>\n",
       "      <th>2</th>\n",
       "      <td>tesla</td>\n",
       "      <td>0.118182</td>\n",
       "      <td>0.057990</td>\n",
       "      <td>0.030068</td>\n",
       "      <td>0.908539</td>\n",
       "      <td>Consumer Discretionary</td>\n",
       "      <td>629</td>\n",
       "      <td>0</td>\n",
       "    </tr>\n",
       "    <tr>\n",
       "      <th>3</th>\n",
       "      <td>google</td>\n",
       "      <td>0.143941</td>\n",
       "      <td>0.062779</td>\n",
       "      <td>0.029588</td>\n",
       "      <td>0.905092</td>\n",
       "      <td>Communication Services</td>\n",
       "      <td>1380</td>\n",
       "      <td>1</td>\n",
       "    </tr>\n",
       "    <tr>\n",
       "      <th>4</th>\n",
       "      <td>palantir</td>\n",
       "      <td>0.153429</td>\n",
       "      <td>0.064429</td>\n",
       "      <td>0.029014</td>\n",
       "      <td>0.904505</td>\n",
       "      <td>Information Technology</td>\n",
       "      <td>44</td>\n",
       "      <td>1</td>\n",
       "    </tr>\n",
       "  </tbody>\n",
       "</table>\n",
       "</div>"
      ],
      "text/plain": [
       "       name  compound  positive  negative   neutral                  sector  \\\n",
       "0  facebook  0.079503  0.054388  0.034112  0.911541  Communication Services   \n",
       "1     apple  0.113186  0.057615  0.030918  0.911482  Information Technology   \n",
       "2     tesla  0.118182  0.057990  0.030068  0.908539  Consumer Discretionary   \n",
       "3    google  0.143941  0.062779  0.029588  0.905092  Communication Services   \n",
       "4  palantir  0.153429  0.064429  0.029014  0.904505  Information Technology   \n",
       "\n",
       "   market cap  target  \n",
       "0         827       1  \n",
       "1        2019       0  \n",
       "2         629       0  \n",
       "3        1380       1  \n",
       "4          44       1  "
      ]
     },
     "execution_count": 34,
     "metadata": {},
     "output_type": "execute_result"
    }
   ],
   "source": [
    "# now importing our final data set on which we are going to build the model\n",
    "filepath = Path(\"../Project_2/monthly_modeling_df.csv\")\n",
    "monthly_model_df = pd.read_csv(filepath, parse_dates=True, infer_datetime_format=True)\n",
    "monthly_model_df.head()"
   ]
  },
  {
   "cell_type": "code",
   "execution_count": 44,
   "metadata": {},
   "outputs": [],
   "source": [
    "# BEGIN MODEL BUILD\n",
    "# Note: our sentiments were pulled as of 3/20/21\n",
    "import warnings\n",
    "warnings.filterwarnings('ignore')\n",
    "import numpy as np\n",
    "import pandas as pd\n",
    "from pathlib import Path\n",
    "from collections import Counter\n",
    "from sklearn.metrics import balanced_accuracy_score\n",
    "from sklearn.metrics import confusion_matrix\n",
    "from imblearn.metrics import classification_report_imbalanced"
   ]
  },
  {
   "cell_type": "code",
   "execution_count": 62,
   "metadata": {},
   "outputs": [
    {
     "data": {
      "text/html": [
       "<div>\n",
       "<style scoped>\n",
       "    .dataframe tbody tr th:only-of-type {\n",
       "        vertical-align: middle;\n",
       "    }\n",
       "\n",
       "    .dataframe tbody tr th {\n",
       "        vertical-align: top;\n",
       "    }\n",
       "\n",
       "    .dataframe thead th {\n",
       "        text-align: right;\n",
       "    }\n",
       "</style>\n",
       "<table border=\"1\" class=\"dataframe\">\n",
       "  <thead>\n",
       "    <tr style=\"text-align: right;\">\n",
       "      <th></th>\n",
       "      <th>compound</th>\n",
       "      <th>positive</th>\n",
       "      <th>negative</th>\n",
       "      <th>neutral</th>\n",
       "      <th>market cap</th>\n",
       "      <th>sector_Communication Services</th>\n",
       "      <th>sector_Consumer Discretionary</th>\n",
       "      <th>sector_Consumer Discretionary</th>\n",
       "      <th>sector_Consumer Staples</th>\n",
       "      <th>sector_Energy</th>\n",
       "      <th>sector_Financials</th>\n",
       "      <th>sector_Health Care</th>\n",
       "      <th>sector_Industrials</th>\n",
       "      <th>sector_Information Technology</th>\n",
       "      <th>sector_Materials</th>\n",
       "      <th>sector_Real Estate</th>\n",
       "      <th>sector_Utilities</th>\n",
       "    </tr>\n",
       "  </thead>\n",
       "  <tbody>\n",
       "    <tr>\n",
       "      <th>count</th>\n",
       "      <td>95.000000</td>\n",
       "      <td>95.000000</td>\n",
       "      <td>95.000000</td>\n",
       "      <td>95.000000</td>\n",
       "      <td>95.000000</td>\n",
       "      <td>95.000000</td>\n",
       "      <td>95.000000</td>\n",
       "      <td>95.000000</td>\n",
       "      <td>95.000000</td>\n",
       "      <td>95.000000</td>\n",
       "      <td>95.000000</td>\n",
       "      <td>95.000000</td>\n",
       "      <td>95.000000</td>\n",
       "      <td>95.000000</td>\n",
       "      <td>95.000000</td>\n",
       "      <td>95.000000</td>\n",
       "      <td>95.000000</td>\n",
       "    </tr>\n",
       "    <tr>\n",
       "      <th>mean</th>\n",
       "      <td>0.179529</td>\n",
       "      <td>0.073554</td>\n",
       "      <td>0.030194</td>\n",
       "      <td>0.895735</td>\n",
       "      <td>196.263158</td>\n",
       "      <td>0.094737</td>\n",
       "      <td>0.021053</td>\n",
       "      <td>0.273684</td>\n",
       "      <td>0.052632</td>\n",
       "      <td>0.021053</td>\n",
       "      <td>0.021053</td>\n",
       "      <td>0.115789</td>\n",
       "      <td>0.063158</td>\n",
       "      <td>0.294737</td>\n",
       "      <td>0.010526</td>\n",
       "      <td>0.021053</td>\n",
       "      <td>0.010526</td>\n",
       "    </tr>\n",
       "    <tr>\n",
       "      <th>std</th>\n",
       "      <td>0.018270</td>\n",
       "      <td>0.003817</td>\n",
       "      <td>0.001706</td>\n",
       "      <td>0.003793</td>\n",
       "      <td>382.097019</td>\n",
       "      <td>0.294405</td>\n",
       "      <td>0.144321</td>\n",
       "      <td>0.448214</td>\n",
       "      <td>0.224481</td>\n",
       "      <td>0.144321</td>\n",
       "      <td>0.144321</td>\n",
       "      <td>0.321670</td>\n",
       "      <td>0.244537</td>\n",
       "      <td>0.458343</td>\n",
       "      <td>0.102598</td>\n",
       "      <td>0.144321</td>\n",
       "      <td>0.102598</td>\n",
       "    </tr>\n",
       "    <tr>\n",
       "      <th>min</th>\n",
       "      <td>0.079503</td>\n",
       "      <td>0.054388</td>\n",
       "      <td>0.026685</td>\n",
       "      <td>0.886778</td>\n",
       "      <td>2.000000</td>\n",
       "      <td>0.000000</td>\n",
       "      <td>0.000000</td>\n",
       "      <td>0.000000</td>\n",
       "      <td>0.000000</td>\n",
       "      <td>0.000000</td>\n",
       "      <td>0.000000</td>\n",
       "      <td>0.000000</td>\n",
       "      <td>0.000000</td>\n",
       "      <td>0.000000</td>\n",
       "      <td>0.000000</td>\n",
       "      <td>0.000000</td>\n",
       "      <td>0.000000</td>\n",
       "    </tr>\n",
       "    <tr>\n",
       "      <th>25%</th>\n",
       "      <td>0.173821</td>\n",
       "      <td>0.073207</td>\n",
       "      <td>0.028921</td>\n",
       "      <td>0.893678</td>\n",
       "      <td>27.000000</td>\n",
       "      <td>0.000000</td>\n",
       "      <td>0.000000</td>\n",
       "      <td>0.000000</td>\n",
       "      <td>0.000000</td>\n",
       "      <td>0.000000</td>\n",
       "      <td>0.000000</td>\n",
       "      <td>0.000000</td>\n",
       "      <td>0.000000</td>\n",
       "      <td>0.000000</td>\n",
       "      <td>0.000000</td>\n",
       "      <td>0.000000</td>\n",
       "      <td>0.000000</td>\n",
       "    </tr>\n",
       "    <tr>\n",
       "      <th>50%</th>\n",
       "      <td>0.178965</td>\n",
       "      <td>0.074267</td>\n",
       "      <td>0.030807</td>\n",
       "      <td>0.894877</td>\n",
       "      <td>57.000000</td>\n",
       "      <td>0.000000</td>\n",
       "      <td>0.000000</td>\n",
       "      <td>0.000000</td>\n",
       "      <td>0.000000</td>\n",
       "      <td>0.000000</td>\n",
       "      <td>0.000000</td>\n",
       "      <td>0.000000</td>\n",
       "      <td>0.000000</td>\n",
       "      <td>0.000000</td>\n",
       "      <td>0.000000</td>\n",
       "      <td>0.000000</td>\n",
       "      <td>0.000000</td>\n",
       "    </tr>\n",
       "    <tr>\n",
       "      <th>75%</th>\n",
       "      <td>0.190125</td>\n",
       "      <td>0.074905</td>\n",
       "      <td>0.031587</td>\n",
       "      <td>0.896880</td>\n",
       "      <td>193.000000</td>\n",
       "      <td>0.000000</td>\n",
       "      <td>0.000000</td>\n",
       "      <td>1.000000</td>\n",
       "      <td>0.000000</td>\n",
       "      <td>0.000000</td>\n",
       "      <td>0.000000</td>\n",
       "      <td>0.000000</td>\n",
       "      <td>0.000000</td>\n",
       "      <td>1.000000</td>\n",
       "      <td>0.000000</td>\n",
       "      <td>0.000000</td>\n",
       "      <td>0.000000</td>\n",
       "    </tr>\n",
       "    <tr>\n",
       "      <th>max</th>\n",
       "      <td>0.219618</td>\n",
       "      <td>0.082198</td>\n",
       "      <td>0.034112</td>\n",
       "      <td>0.911541</td>\n",
       "      <td>2019.000000</td>\n",
       "      <td>1.000000</td>\n",
       "      <td>1.000000</td>\n",
       "      <td>1.000000</td>\n",
       "      <td>1.000000</td>\n",
       "      <td>1.000000</td>\n",
       "      <td>1.000000</td>\n",
       "      <td>1.000000</td>\n",
       "      <td>1.000000</td>\n",
       "      <td>1.000000</td>\n",
       "      <td>1.000000</td>\n",
       "      <td>1.000000</td>\n",
       "      <td>1.000000</td>\n",
       "    </tr>\n",
       "  </tbody>\n",
       "</table>\n",
       "</div>"
      ],
      "text/plain": [
       "        compound   positive   negative    neutral   market cap  \\\n",
       "count  95.000000  95.000000  95.000000  95.000000    95.000000   \n",
       "mean    0.179529   0.073554   0.030194   0.895735   196.263158   \n",
       "std     0.018270   0.003817   0.001706   0.003793   382.097019   \n",
       "min     0.079503   0.054388   0.026685   0.886778     2.000000   \n",
       "25%     0.173821   0.073207   0.028921   0.893678    27.000000   \n",
       "50%     0.178965   0.074267   0.030807   0.894877    57.000000   \n",
       "75%     0.190125   0.074905   0.031587   0.896880   193.000000   \n",
       "max     0.219618   0.082198   0.034112   0.911541  2019.000000   \n",
       "\n",
       "       sector_Communication Services  sector_Consumer Discretionary  \\\n",
       "count                      95.000000                      95.000000   \n",
       "mean                        0.094737                       0.021053   \n",
       "std                         0.294405                       0.144321   \n",
       "min                         0.000000                       0.000000   \n",
       "25%                         0.000000                       0.000000   \n",
       "50%                         0.000000                       0.000000   \n",
       "75%                         0.000000                       0.000000   \n",
       "max                         1.000000                       1.000000   \n",
       "\n",
       "       sector_Consumer Discretionary   sector_Consumer Staples  sector_Energy  \\\n",
       "count                       95.000000                95.000000      95.000000   \n",
       "mean                         0.273684                 0.052632       0.021053   \n",
       "std                          0.448214                 0.224481       0.144321   \n",
       "min                          0.000000                 0.000000       0.000000   \n",
       "25%                          0.000000                 0.000000       0.000000   \n",
       "50%                          0.000000                 0.000000       0.000000   \n",
       "75%                          1.000000                 0.000000       0.000000   \n",
       "max                          1.000000                 1.000000       1.000000   \n",
       "\n",
       "       sector_Financials  sector_Health Care  sector_Industrials  \\\n",
       "count          95.000000           95.000000           95.000000   \n",
       "mean            0.021053            0.115789            0.063158   \n",
       "std             0.144321            0.321670            0.244537   \n",
       "min             0.000000            0.000000            0.000000   \n",
       "25%             0.000000            0.000000            0.000000   \n",
       "50%             0.000000            0.000000            0.000000   \n",
       "75%             0.000000            0.000000            0.000000   \n",
       "max             1.000000            1.000000            1.000000   \n",
       "\n",
       "       sector_Information Technology  sector_Materials  sector_Real Estate  \\\n",
       "count                      95.000000         95.000000           95.000000   \n",
       "mean                        0.294737          0.010526            0.021053   \n",
       "std                         0.458343          0.102598            0.144321   \n",
       "min                         0.000000          0.000000            0.000000   \n",
       "25%                         0.000000          0.000000            0.000000   \n",
       "50%                         0.000000          0.000000            0.000000   \n",
       "75%                         1.000000          0.000000            0.000000   \n",
       "max                         1.000000          1.000000            1.000000   \n",
       "\n",
       "       sector_Utilities  \n",
       "count         95.000000  \n",
       "mean           0.010526  \n",
       "std            0.102598  \n",
       "min            0.000000  \n",
       "25%            0.000000  \n",
       "50%            0.000000  \n",
       "75%            0.000000  \n",
       "max            1.000000  "
      ]
     },
     "execution_count": 62,
     "metadata": {},
     "output_type": "execute_result"
    }
   ],
   "source": [
    "X = monthly_model_df.drop(columns=['name', 'target'])\n",
    "X = pd.get_dummies(X, columns=['sector'])\n",
    "y = monthly_model_df[\"target\"].ravel()\n",
    "X.describe()"
   ]
  },
  {
   "cell_type": "code",
   "execution_count": 63,
   "metadata": {},
   "outputs": [
    {
     "data": {
      "text/plain": [
       "1    52\n",
       "0    43\n",
       "Name: target, dtype: int64"
      ]
     },
     "execution_count": 63,
     "metadata": {},
     "output_type": "execute_result"
    }
   ],
   "source": [
    "# if stock went up, 1\n",
    "# if stock went down, 0\n",
    "monthly_model_df['target'].value_counts()"
   ]
  },
  {
   "cell_type": "code",
   "execution_count": 64,
   "metadata": {},
   "outputs": [],
   "source": [
    "# data pre-processing\n",
    "from sklearn.model_selection import train_test_split\n",
    "X_train, X_test, y_train, y_test = train_test_split(X, y, random_state=1)\n",
    "\n",
    "from sklearn.preprocessing import StandardScaler\n",
    "scaler = StandardScaler()\n",
    "\n",
    "X_scaler = scaler.fit(X_train)\n",
    "\n",
    "X_train_scaled = X_scaler.transform(X_train)\n",
    "X_test_scaled = X_scaler.transform(X_test)"
   ]
  },
  {
   "cell_type": "code",
   "execution_count": 65,
   "metadata": {},
   "outputs": [],
   "source": [
    "# now look at different models (we are looking at classification models)"
   ]
  },
  {
   "cell_type": "code",
   "execution_count": 66,
   "metadata": {},
   "outputs": [],
   "source": [
    "#1 ensemble learner - SMOTE Oversampling"
   ]
  },
  {
   "cell_type": "code",
   "execution_count": 67,
   "metadata": {},
   "outputs": [],
   "source": [
    "from imblearn.ensemble import EasyEnsembleClassifier\n",
    "eec_model = EasyEnsembleClassifier(n_estimators=100, random_state=1)\n",
    "eec_model = eec_model.fit(X_train_scaled, y_train)\n",
    "predictions = eec_model.predict(X_test_scaled)"
   ]
  },
  {
   "cell_type": "code",
   "execution_count": 68,
   "metadata": {},
   "outputs": [
    {
     "data": {
      "text/plain": [
       "0.4583333333333333"
      ]
     },
     "execution_count": 68,
     "metadata": {},
     "output_type": "execute_result"
    }
   ],
   "source": [
    "balanced_accuracy_score(y_test, predictions)"
   ]
  },
  {
   "cell_type": "code",
   "execution_count": 69,
   "metadata": {},
   "outputs": [
    {
     "data": {
      "text/plain": [
       "array([[3, 9],\n",
       "       [4, 8]], dtype=int64)"
      ]
     },
     "execution_count": 69,
     "metadata": {},
     "output_type": "execute_result"
    }
   ],
   "source": [
    "confusion_matrix(y_test, predictions)"
   ]
  },
  {
   "cell_type": "code",
   "execution_count": 70,
   "metadata": {},
   "outputs": [
    {
     "name": "stdout",
     "output_type": "stream",
     "text": [
      "                   pre       rec       spe        f1       geo       iba       sup\n",
      "\n",
      "          0       0.43      0.25      0.67      0.32      0.41      0.16        12\n",
      "          1       0.47      0.67      0.25      0.55      0.41      0.17        12\n",
      "\n",
      "avg / total       0.45      0.46      0.46      0.43      0.41      0.17        24\n",
      "\n"
     ]
    }
   ],
   "source": [
    "from imblearn.metrics import classification_report_imbalanced\n",
    "print(classification_report_imbalanced(y_test, predictions))"
   ]
  },
  {
   "cell_type": "code",
   "execution_count": 86,
   "metadata": {},
   "outputs": [],
   "source": [
    "#2 resampling - oversampling with naive random oversampling "
   ]
  },
  {
   "cell_type": "code",
   "execution_count": 87,
   "metadata": {},
   "outputs": [
    {
     "data": {
      "text/plain": [
       "Counter({0: 40, 1: 40})"
      ]
     },
     "execution_count": 87,
     "metadata": {},
     "output_type": "execute_result"
    }
   ],
   "source": [
    "from imblearn.over_sampling import SMOTE\n",
    "smt = SMOTE(random_state=1)\n",
    "X_resampled, y_resampled = smt.fit_resample(X_train_scaled, y_train)\n",
    "Counter(y_resampled)"
   ]
  },
  {
   "cell_type": "code",
   "execution_count": 88,
   "metadata": {},
   "outputs": [
    {
     "data": {
      "text/plain": [
       "LogisticRegression(random_state=1)"
      ]
     },
     "execution_count": 88,
     "metadata": {},
     "output_type": "execute_result"
    }
   ],
   "source": [
    "model = LogisticRegression(solver='lbfgs', random_state=1)\n",
    "model.fit(X_resampled, y_resampled)"
   ]
  },
  {
   "cell_type": "code",
   "execution_count": 89,
   "metadata": {},
   "outputs": [
    {
     "data": {
      "text/plain": [
       "0.5416666666666667"
      ]
     },
     "execution_count": 89,
     "metadata": {},
     "output_type": "execute_result"
    }
   ],
   "source": [
    "y_pred = model.predict(X_test_scaled)\n",
    "balanced_accuracy_score(y_test, y_pred)"
   ]
  },
  {
   "cell_type": "code",
   "execution_count": 90,
   "metadata": {},
   "outputs": [
    {
     "data": {
      "text/plain": [
       "array([[6, 6],\n",
       "       [5, 7]], dtype=int64)"
      ]
     },
     "execution_count": 90,
     "metadata": {},
     "output_type": "execute_result"
    }
   ],
   "source": [
    "confusion_matrix(y_test, y_pred)"
   ]
  },
  {
   "cell_type": "code",
   "execution_count": 91,
   "metadata": {},
   "outputs": [
    {
     "name": "stdout",
     "output_type": "stream",
     "text": [
      "                   pre       rec       spe        f1       geo       iba       sup\n",
      "\n",
      "          0       0.55      0.50      0.58      0.52      0.54      0.29        12\n",
      "          1       0.54      0.58      0.50      0.56      0.54      0.29        12\n",
      "\n",
      "avg / total       0.54      0.54      0.54      0.54      0.54      0.29        24\n",
      "\n"
     ]
    }
   ],
   "source": [
    "print(classification_report_imbalanced(y_test, y_pred))"
   ]
  },
  {
   "cell_type": "code",
   "execution_count": 92,
   "metadata": {},
   "outputs": [
    {
     "data": {
      "text/plain": [
       "LogisticRegression(random_state=1)"
      ]
     },
     "execution_count": 92,
     "metadata": {},
     "output_type": "execute_result"
    }
   ],
   "source": [
    "#3 logistic regression\n",
    "\n",
    "from sklearn.linear_model import LogisticRegression\n",
    "classifier = LogisticRegression(solver='lbfgs', random_state=1)\n",
    "classifier"
   ]
  },
  {
   "cell_type": "code",
   "execution_count": 93,
   "metadata": {},
   "outputs": [
    {
     "data": {
      "text/plain": [
       "LogisticRegression(multi_class='warn', random_state=1)"
      ]
     },
     "execution_count": 93,
     "metadata": {},
     "output_type": "execute_result"
    }
   ],
   "source": [
    " LogisticRegression(C=1.0, class_weight=None, dual=False, fit_intercept=True,\n",
    "                   intercept_scaling=1, l1_ratio=None, max_iter=100,\n",
    "                   multi_class='warn', n_jobs=None, penalty='l2',\n",
    "                   random_state=1, solver='lbfgs', tol=0.0001, verbose=0,\n",
    "                   warm_start=False)"
   ]
  },
  {
   "cell_type": "code",
   "execution_count": 94,
   "metadata": {},
   "outputs": [
    {
     "data": {
      "text/plain": [
       "LogisticRegression(random_state=1)"
      ]
     },
     "execution_count": 94,
     "metadata": {},
     "output_type": "execute_result"
    }
   ],
   "source": [
    "classifier.fit(X_train, y_train)"
   ]
  },
  {
   "cell_type": "code",
   "execution_count": 95,
   "metadata": {},
   "outputs": [
    {
     "data": {
      "text/plain": [
       "LogisticRegression(multi_class='warn', random_state=1)"
      ]
     },
     "execution_count": 95,
     "metadata": {},
     "output_type": "execute_result"
    }
   ],
   "source": [
    " LogisticRegression(C=1.0, class_weight=None, dual=False, fit_intercept=True,\n",
    "                   intercept_scaling=1, l1_ratio=None, max_iter=100,\n",
    "                   multi_class='warn', n_jobs=None, penalty='l2',\n",
    "                   random_state=1, solver='lbfgs', tol=0.0001, verbose=0,\n",
    "                   warm_start=False)"
   ]
  },
  {
   "cell_type": "code",
   "execution_count": 96,
   "metadata": {},
   "outputs": [
    {
     "name": "stdout",
     "output_type": "stream",
     "text": [
      "Training Data Score: 0.6901408450704225\n",
      "Testing Data Score: 0.7083333333333334\n"
     ]
    }
   ],
   "source": [
    "print(f\"Training Data Score: {classifier.score(X_train, y_train)}\")\n",
    "print(f\"Testing Data Score: {classifier.score(X_test, y_test)}\")"
   ]
  },
  {
   "cell_type": "code",
   "execution_count": 101,
   "metadata": {},
   "outputs": [
    {
     "data": {
      "text/html": [
       "<div>\n",
       "<style scoped>\n",
       "    .dataframe tbody tr th:only-of-type {\n",
       "        vertical-align: middle;\n",
       "    }\n",
       "\n",
       "    .dataframe tbody tr th {\n",
       "        vertical-align: top;\n",
       "    }\n",
       "\n",
       "    .dataframe thead th {\n",
       "        text-align: right;\n",
       "    }\n",
       "</style>\n",
       "<table border=\"1\" class=\"dataframe\">\n",
       "  <thead>\n",
       "    <tr style=\"text-align: right;\">\n",
       "      <th></th>\n",
       "      <th>Prediction</th>\n",
       "      <th>Actual</th>\n",
       "    </tr>\n",
       "  </thead>\n",
       "  <tbody>\n",
       "    <tr>\n",
       "      <th>0</th>\n",
       "      <td>1</td>\n",
       "      <td>1</td>\n",
       "    </tr>\n",
       "    <tr>\n",
       "      <th>1</th>\n",
       "      <td>1</td>\n",
       "      <td>1</td>\n",
       "    </tr>\n",
       "    <tr>\n",
       "      <th>2</th>\n",
       "      <td>0</td>\n",
       "      <td>0</td>\n",
       "    </tr>\n",
       "    <tr>\n",
       "      <th>3</th>\n",
       "      <td>1</td>\n",
       "      <td>1</td>\n",
       "    </tr>\n",
       "    <tr>\n",
       "      <th>4</th>\n",
       "      <td>1</td>\n",
       "      <td>0</td>\n",
       "    </tr>\n",
       "    <tr>\n",
       "      <th>5</th>\n",
       "      <td>1</td>\n",
       "      <td>0</td>\n",
       "    </tr>\n",
       "    <tr>\n",
       "      <th>6</th>\n",
       "      <td>0</td>\n",
       "      <td>1</td>\n",
       "    </tr>\n",
       "    <tr>\n",
       "      <th>7</th>\n",
       "      <td>1</td>\n",
       "      <td>0</td>\n",
       "    </tr>\n",
       "    <tr>\n",
       "      <th>8</th>\n",
       "      <td>1</td>\n",
       "      <td>1</td>\n",
       "    </tr>\n",
       "    <tr>\n",
       "      <th>9</th>\n",
       "      <td>0</td>\n",
       "      <td>0</td>\n",
       "    </tr>\n",
       "    <tr>\n",
       "      <th>10</th>\n",
       "      <td>0</td>\n",
       "      <td>0</td>\n",
       "    </tr>\n",
       "    <tr>\n",
       "      <th>11</th>\n",
       "      <td>1</td>\n",
       "      <td>1</td>\n",
       "    </tr>\n",
       "    <tr>\n",
       "      <th>12</th>\n",
       "      <td>0</td>\n",
       "      <td>0</td>\n",
       "    </tr>\n",
       "    <tr>\n",
       "      <th>13</th>\n",
       "      <td>1</td>\n",
       "      <td>1</td>\n",
       "    </tr>\n",
       "    <tr>\n",
       "      <th>14</th>\n",
       "      <td>0</td>\n",
       "      <td>1</td>\n",
       "    </tr>\n",
       "    <tr>\n",
       "      <th>15</th>\n",
       "      <td>1</td>\n",
       "      <td>1</td>\n",
       "    </tr>\n",
       "    <tr>\n",
       "      <th>16</th>\n",
       "      <td>1</td>\n",
       "      <td>1</td>\n",
       "    </tr>\n",
       "    <tr>\n",
       "      <th>17</th>\n",
       "      <td>1</td>\n",
       "      <td>1</td>\n",
       "    </tr>\n",
       "    <tr>\n",
       "      <th>18</th>\n",
       "      <td>0</td>\n",
       "      <td>0</td>\n",
       "    </tr>\n",
       "    <tr>\n",
       "      <th>19</th>\n",
       "      <td>0</td>\n",
       "      <td>0</td>\n",
       "    </tr>\n",
       "  </tbody>\n",
       "</table>\n",
       "</div>"
      ],
      "text/plain": [
       "    Prediction  Actual\n",
       "0            1       1\n",
       "1            1       1\n",
       "2            0       0\n",
       "3            1       1\n",
       "4            1       0\n",
       "5            1       0\n",
       "6            0       1\n",
       "7            1       0\n",
       "8            1       1\n",
       "9            0       0\n",
       "10           0       0\n",
       "11           1       1\n",
       "12           0       0\n",
       "13           1       1\n",
       "14           0       1\n",
       "15           1       1\n",
       "16           1       1\n",
       "17           1       1\n",
       "18           0       0\n",
       "19           0       0"
      ]
     },
     "execution_count": 101,
     "metadata": {},
     "output_type": "execute_result"
    }
   ],
   "source": [
    "predictions = classifier.predict(X_test)\n",
    "results = pd.DataFrame({\"Prediction\": predictions,\n",
    "                        \"Actual\": y_test}).reset_index(drop=True)\n",
    "results.head(20)"
   ]
  },
  {
   "cell_type": "code",
   "execution_count": 102,
   "metadata": {},
   "outputs": [
    {
     "data": {
      "text/plain": [
       "array([[ 7,  5],\n",
       "       [ 2, 10]], dtype=int64)"
      ]
     },
     "execution_count": 102,
     "metadata": {},
     "output_type": "execute_result"
    }
   ],
   "source": [
    "confusion_matrix(y_test, predictions)"
   ]
  },
  {
   "cell_type": "code",
   "execution_count": 103,
   "metadata": {},
   "outputs": [
    {
     "name": "stdout",
     "output_type": "stream",
     "text": [
      "              precision    recall  f1-score   support\n",
      "\n",
      "           0       0.78      0.58      0.67        12\n",
      "           1       0.67      0.83      0.74        12\n",
      "\n",
      "    accuracy                           0.71        24\n",
      "   macro avg       0.72      0.71      0.70        24\n",
      "weighted avg       0.72      0.71      0.70        24\n",
      "\n"
     ]
    }
   ],
   "source": [
    " from sklearn.metrics import classification_report\n",
    "print(classification_report(y_test, predictions))"
   ]
  },
  {
   "cell_type": "code",
   "execution_count": 118,
   "metadata": {},
   "outputs": [],
   "source": [
    "#4 neural network \n",
    "import tensorflow as tf\n",
    "from tensorflow.keras.layers import Dense\n",
    "from tensorflow.keras.models import Sequential\n",
    "from sklearn.preprocessing import StandardScaler\n",
    "from sklearn.model_selection import train_test_split\n",
    "%matplotlib inline"
   ]
  },
  {
   "cell_type": "code",
   "execution_count": 119,
   "metadata": {},
   "outputs": [],
   "source": [
    "tf.random.set_seed(95)"
   ]
  },
  {
   "cell_type": "code",
   "execution_count": 123,
   "metadata": {},
   "outputs": [
    {
     "name": "stdout",
     "output_type": "stream",
     "text": [
      "Model: \"sequential_4\"\n",
      "_________________________________________________________________\n",
      "Layer (type)                 Output Shape              Param #   \n",
      "=================================================================\n",
      "dense_8 (Dense)              (None, 69)                1242      \n",
      "_________________________________________________________________\n",
      "dense_9 (Dense)              (None, 1)                 70        \n",
      "=================================================================\n",
      "Total params: 1,312\n",
      "Trainable params: 1,312\n",
      "Non-trainable params: 0\n",
      "_________________________________________________________________\n"
     ]
    }
   ],
   "source": [
    "y = y.reshape(-1, 1)\n",
    "X_train, X_test, y_train, y_test = train_test_split(X, y, random_state=78)\n",
    "X_scaler.fit(X_train)\n",
    "X_train_scaled = X_scaler.transform(X_train)\n",
    "X_test_scaled = X_scaler.transform(X_test)\n",
    "\n",
    "number_inputs = 17\n",
    "number_hidden_nodes = 69\n",
    "\n",
    "nn = Sequential()\n",
    "nn.add(Dense(units=number_hidden_nodes, input_dim=number_inputs, activation=\"relu\"))\n",
    "nn.add(Dense(1, activation=\"sigmoid\"))\n",
    "nn.summary()"
   ]
  },
  {
   "cell_type": "code",
   "execution_count": 124,
   "metadata": {},
   "outputs": [],
   "source": [
    "nn.compile(loss=\"binary_crossentropy\", optimizer=\"adam\", metrics=[\"accuracy\"])"
   ]
  },
  {
   "cell_type": "code",
   "execution_count": 126,
   "metadata": {},
   "outputs": [
    {
     "name": "stdout",
     "output_type": "stream",
     "text": [
      "Epoch 1/100\n",
      "3/3 [==============================] - 0s 3ms/step - loss: 0.4609 - accuracy: 0.8028\n",
      "Epoch 2/100\n",
      "3/3 [==============================] - 0s 2ms/step - loss: 0.4594 - accuracy: 0.8028\n",
      "Epoch 3/100\n",
      "3/3 [==============================] - 0s 3ms/step - loss: 0.4573 - accuracy: 0.8028\n",
      "Epoch 4/100\n",
      "3/3 [==============================] - 0s 4ms/step - loss: 0.4550 - accuracy: 0.8028\n",
      "Epoch 5/100\n",
      "3/3 [==============================] - 0s 3ms/step - loss: 0.4528 - accuracy: 0.8028\n",
      "Epoch 6/100\n",
      "3/3 [==============================] - 0s 3ms/step - loss: 0.4514 - accuracy: 0.7746\n",
      "Epoch 7/100\n",
      "3/3 [==============================] - 0s 6ms/step - loss: 0.4490 - accuracy: 0.7465\n",
      "Epoch 8/100\n",
      "3/3 [==============================] - 0s 2ms/step - loss: 0.4478 - accuracy: 0.7324\n",
      "Epoch 9/100\n",
      "3/3 [==============================] - 0s 4ms/step - loss: 0.4461 - accuracy: 0.7465\n",
      "Epoch 10/100\n",
      "3/3 [==============================] - 0s 2ms/step - loss: 0.4443 - accuracy: 0.7606\n",
      "Epoch 11/100\n",
      "3/3 [==============================] - 0s 3ms/step - loss: 0.4426 - accuracy: 0.7606\n",
      "Epoch 12/100\n",
      "3/3 [==============================] - 0s 4ms/step - loss: 0.4408 - accuracy: 0.7606\n",
      "Epoch 13/100\n",
      "3/3 [==============================] - 0s 2ms/step - loss: 0.4393 - accuracy: 0.7746\n",
      "Epoch 14/100\n",
      "3/3 [==============================] - 0s 3ms/step - loss: 0.4377 - accuracy: 0.7746\n",
      "Epoch 15/100\n",
      "3/3 [==============================] - 0s 2ms/step - loss: 0.4360 - accuracy: 0.7746\n",
      "Epoch 16/100\n",
      "3/3 [==============================] - 0s 4ms/step - loss: 0.4347 - accuracy: 0.7746\n",
      "Epoch 17/100\n",
      "3/3 [==============================] - 0s 3ms/step - loss: 0.4333 - accuracy: 0.7746\n",
      "Epoch 18/100\n",
      "3/3 [==============================] - 0s 2ms/step - loss: 0.4315 - accuracy: 0.7606\n",
      "Epoch 19/100\n",
      "3/3 [==============================] - 0s 3ms/step - loss: 0.4300 - accuracy: 0.7465\n",
      "Epoch 20/100\n",
      "3/3 [==============================] - 0s 4ms/step - loss: 0.4288 - accuracy: 0.7606\n",
      "Epoch 21/100\n",
      "3/3 [==============================] - 0s 5ms/step - loss: 0.4266 - accuracy: 0.7606\n",
      "Epoch 22/100\n",
      "3/3 [==============================] - 0s 3ms/step - loss: 0.4255 - accuracy: 0.7606\n",
      "Epoch 23/100\n",
      "3/3 [==============================] - 0s 2ms/step - loss: 0.4246 - accuracy: 0.7606\n",
      "Epoch 24/100\n",
      "3/3 [==============================] - 0s 3ms/step - loss: 0.4224 - accuracy: 0.7606\n",
      "Epoch 25/100\n",
      "3/3 [==============================] - 0s 4ms/step - loss: 0.4207 - accuracy: 0.7606\n",
      "Epoch 26/100\n",
      "3/3 [==============================] - 0s 4ms/step - loss: 0.4193 - accuracy: 0.7606\n",
      "Epoch 27/100\n",
      "3/3 [==============================] - 0s 2ms/step - loss: 0.4177 - accuracy: 0.7465\n",
      "Epoch 28/100\n",
      "3/3 [==============================] - 0s 2ms/step - loss: 0.4170 - accuracy: 0.7465\n",
      "Epoch 29/100\n",
      "3/3 [==============================] - 0s 3ms/step - loss: 0.4153 - accuracy: 0.7465\n",
      "Epoch 30/100\n",
      "3/3 [==============================] - 0s 2ms/step - loss: 0.4140 - accuracy: 0.7465\n",
      "Epoch 31/100\n",
      "3/3 [==============================] - 0s 5ms/step - loss: 0.4125 - accuracy: 0.7606\n",
      "Epoch 32/100\n",
      "3/3 [==============================] - 0s 2ms/step - loss: 0.4112 - accuracy: 0.7606\n",
      "Epoch 33/100\n",
      "3/3 [==============================] - 0s 3ms/step - loss: 0.4095 - accuracy: 0.7746\n",
      "Epoch 34/100\n",
      "3/3 [==============================] - 0s 2ms/step - loss: 0.4085 - accuracy: 0.7606\n",
      "Epoch 35/100\n",
      "3/3 [==============================] - 0s 5ms/step - loss: 0.4070 - accuracy: 0.7746\n",
      "Epoch 36/100\n",
      "3/3 [==============================] - 0s 3ms/step - loss: 0.4059 - accuracy: 0.7746\n",
      "Epoch 37/100\n",
      "3/3 [==============================] - 0s 3ms/step - loss: 0.4044 - accuracy: 0.7887\n",
      "Epoch 38/100\n",
      "3/3 [==============================] - 0s 2ms/step - loss: 0.4036 - accuracy: 0.7887\n",
      "Epoch 39/100\n",
      "3/3 [==============================] - 0s 9ms/step - loss: 0.4024 - accuracy: 0.8028\n",
      "Epoch 40/100\n",
      "3/3 [==============================] - 0s 4ms/step - loss: 0.4009 - accuracy: 0.7746\n",
      "Epoch 41/100\n",
      "3/3 [==============================] - 0s 3ms/step - loss: 0.4000 - accuracy: 0.7746\n",
      "Epoch 42/100\n",
      "3/3 [==============================] - 0s 4ms/step - loss: 0.3985 - accuracy: 0.7887\n",
      "Epoch 43/100\n",
      "3/3 [==============================] - 0s 3ms/step - loss: 0.3976 - accuracy: 0.7746\n",
      "Epoch 44/100\n",
      "3/3 [==============================] - 0s 2ms/step - loss: 0.3967 - accuracy: 0.7887\n",
      "Epoch 45/100\n",
      "3/3 [==============================] - 0s 4ms/step - loss: 0.3953 - accuracy: 0.7887\n",
      "Epoch 46/100\n",
      "3/3 [==============================] - 0s 3ms/step - loss: 0.3942 - accuracy: 0.8028\n",
      "Epoch 47/100\n",
      "3/3 [==============================] - 0s 4ms/step - loss: 0.3928 - accuracy: 0.8028\n",
      "Epoch 48/100\n",
      "3/3 [==============================] - 0s 2ms/step - loss: 0.3917 - accuracy: 0.8169\n",
      "Epoch 49/100\n",
      "3/3 [==============================] - 0s 3ms/step - loss: 0.3903 - accuracy: 0.8169\n",
      "Epoch 50/100\n",
      "3/3 [==============================] - 0s 3ms/step - loss: 0.3898 - accuracy: 0.8169\n",
      "Epoch 51/100\n",
      "3/3 [==============================] - 0s 3ms/step - loss: 0.3889 - accuracy: 0.8028\n",
      "Epoch 52/100\n",
      "3/3 [==============================] - 0s 2ms/step - loss: 0.3878 - accuracy: 0.8169\n",
      "Epoch 53/100\n",
      "3/3 [==============================] - 0s 6ms/step - loss: 0.3865 - accuracy: 0.8169\n",
      "Epoch 54/100\n",
      "3/3 [==============================] - 0s 5ms/step - loss: 0.3853 - accuracy: 0.8028\n",
      "Epoch 55/100\n",
      "3/3 [==============================] - 0s 3ms/step - loss: 0.3841 - accuracy: 0.8169\n",
      "Epoch 56/100\n",
      "3/3 [==============================] - 0s 3ms/step - loss: 0.3830 - accuracy: 0.8451\n",
      "Epoch 57/100\n",
      "3/3 [==============================] - 0s 3ms/step - loss: 0.3820 - accuracy: 0.8451\n",
      "Epoch 58/100\n",
      "3/3 [==============================] - 0s 2ms/step - loss: 0.3810 - accuracy: 0.8451\n",
      "Epoch 59/100\n",
      "3/3 [==============================] - 0s 4ms/step - loss: 0.3798 - accuracy: 0.8451\n",
      "Epoch 60/100\n",
      "3/3 [==============================] - 0s 4ms/step - loss: 0.3788 - accuracy: 0.8310\n",
      "Epoch 61/100\n",
      "3/3 [==============================] - 0s 4ms/step - loss: 0.3780 - accuracy: 0.8169\n",
      "Epoch 62/100\n",
      "3/3 [==============================] - 0s 2ms/step - loss: 0.3765 - accuracy: 0.8310\n",
      "Epoch 63/100\n",
      "3/3 [==============================] - 0s 2ms/step - loss: 0.3759 - accuracy: 0.8310\n",
      "Epoch 64/100\n",
      "3/3 [==============================] - 0s 2ms/step - loss: 0.3745 - accuracy: 0.8451\n",
      "Epoch 65/100\n",
      "3/3 [==============================] - 0s 2ms/step - loss: 0.3733 - accuracy: 0.8451\n",
      "Epoch 66/100\n",
      "3/3 [==============================] - 0s 4ms/step - loss: 0.3719 - accuracy: 0.8451\n",
      "Epoch 67/100\n",
      "3/3 [==============================] - 0s 3ms/step - loss: 0.3711 - accuracy: 0.8451\n",
      "Epoch 68/100\n",
      "3/3 [==============================] - 0s 3ms/step - loss: 0.3697 - accuracy: 0.8451\n",
      "Epoch 69/100\n",
      "3/3 [==============================] - 0s 2ms/step - loss: 0.3688 - accuracy: 0.8451\n",
      "Epoch 70/100\n",
      "3/3 [==============================] - 0s 3ms/step - loss: 0.3680 - accuracy: 0.8592\n",
      "Epoch 71/100\n",
      "3/3 [==============================] - 0s 2ms/step - loss: 0.3672 - accuracy: 0.8451\n",
      "Epoch 72/100\n",
      "3/3 [==============================] - 0s 3ms/step - loss: 0.3660 - accuracy: 0.8451\n",
      "Epoch 73/100\n",
      "3/3 [==============================] - 0s 4ms/step - loss: 0.3652 - accuracy: 0.8451\n",
      "Epoch 74/100\n",
      "3/3 [==============================] - 0s 3ms/step - loss: 0.3643 - accuracy: 0.8451\n",
      "Epoch 75/100\n",
      "3/3 [==============================] - 0s 2ms/step - loss: 0.3634 - accuracy: 0.8451\n",
      "Epoch 76/100\n",
      "3/3 [==============================] - 0s 2ms/step - loss: 0.3626 - accuracy: 0.8451\n",
      "Epoch 77/100\n",
      "3/3 [==============================] - 0s 3ms/step - loss: 0.3621 - accuracy: 0.8169\n",
      "Epoch 78/100\n",
      "3/3 [==============================] - 0s 5ms/step - loss: 0.3610 - accuracy: 0.8169\n",
      "Epoch 79/100\n",
      "3/3 [==============================] - 0s 2ms/step - loss: 0.3601 - accuracy: 0.8169\n",
      "Epoch 80/100\n",
      "3/3 [==============================] - 0s 2ms/step - loss: 0.3590 - accuracy: 0.8169\n",
      "Epoch 81/100\n",
      "3/3 [==============================] - 0s 2ms/step - loss: 0.3579 - accuracy: 0.8310\n",
      "Epoch 82/100\n",
      "3/3 [==============================] - 0s 3ms/step - loss: 0.3562 - accuracy: 0.8592\n",
      "Epoch 83/100\n",
      "3/3 [==============================] - 0s 4ms/step - loss: 0.3553 - accuracy: 0.8451\n",
      "Epoch 84/100\n",
      "3/3 [==============================] - 0s 3ms/step - loss: 0.3541 - accuracy: 0.8451\n",
      "Epoch 85/100\n",
      "3/3 [==============================] - 0s 3ms/step - loss: 0.3533 - accuracy: 0.8592\n",
      "Epoch 86/100\n",
      "3/3 [==============================] - 0s 2ms/step - loss: 0.3521 - accuracy: 0.8592\n",
      "Epoch 87/100\n",
      "3/3 [==============================] - 0s 4ms/step - loss: 0.3510 - accuracy: 0.8592\n",
      "Epoch 88/100\n",
      "3/3 [==============================] - 0s 3ms/step - loss: 0.3499 - accuracy: 0.8592\n",
      "Epoch 89/100\n",
      "3/3 [==============================] - 0s 2ms/step - loss: 0.3491 - accuracy: 0.8592\n",
      "Epoch 90/100\n",
      "3/3 [==============================] - 0s 2ms/step - loss: 0.3484 - accuracy: 0.8451\n",
      "Epoch 91/100\n",
      "3/3 [==============================] - 0s 5ms/step - loss: 0.3475 - accuracy: 0.8451\n",
      "Epoch 92/100\n",
      "3/3 [==============================] - 0s 3ms/step - loss: 0.3460 - accuracy: 0.8592\n",
      "Epoch 93/100\n",
      "3/3 [==============================] - 0s 3ms/step - loss: 0.3450 - accuracy: 0.8592\n",
      "Epoch 94/100\n",
      "3/3 [==============================] - 0s 2ms/step - loss: 0.3437 - accuracy: 0.8592\n",
      "Epoch 95/100\n",
      "3/3 [==============================] - 0s 2ms/step - loss: 0.3432 - accuracy: 0.8451\n",
      "Epoch 96/100\n",
      "3/3 [==============================] - 0s 3ms/step - loss: 0.3426 - accuracy: 0.8451\n",
      "Epoch 97/100\n",
      "3/3 [==============================] - 0s 5ms/step - loss: 0.3423 - accuracy: 0.8592\n",
      "Epoch 98/100\n",
      "3/3 [==============================] - 0s 7ms/step - loss: 0.3416 - accuracy: 0.8310\n",
      "Epoch 99/100\n",
      "3/3 [==============================] - 0s 3ms/step - loss: 0.3412 - accuracy: 0.8169\n",
      "Epoch 100/100\n",
      "3/3 [==============================] - 0s 2ms/step - loss: 0.3407 - accuracy: 0.8169\n"
     ]
    }
   ],
   "source": [
    "model = nn.fit(X_train_scaled, y_train, epochs=100)"
   ]
  },
  {
   "cell_type": "code",
   "execution_count": 127,
   "metadata": {},
   "outputs": [
    {
     "data": {
      "text/plain": [
       "<matplotlib.axes._subplots.AxesSubplot at 0x1c3a114b0c8>"
      ]
     },
     "execution_count": 127,
     "metadata": {},
     "output_type": "execute_result"
    },
    {
     "data": {
      "image/png": "[encoded data removed]",
      "text/plain": [
       "<Figure size 432x288 with 1 Axes>"
      ]
     },
     "metadata": {
      "needs_background": "light"
     },
     "output_type": "display_data"
    }
   ],
   "source": [
    "df_plot = pd.DataFrame(model.history, index=range(1, len(model.history[\"loss\"]) + 1))\n",
    "df_plot.plot(y=\"loss\")"
   ]
  },
  {
   "cell_type": "code",
   "execution_count": 128,
   "metadata": {},
   "outputs": [
    {
     "data": {
      "text/plain": [
       "<matplotlib.axes._subplots.AxesSubplot at 0x1c3a6e03048>"
      ]
     },
     "execution_count": 128,
     "metadata": {},
     "output_type": "execute_result"
    },
    {
     "data": {
      "image/png": "[encoded data removed]",
      "text/plain": [
       "<Figure size 432x288 with 1 Axes>"
      ]
     },
     "metadata": {
      "needs_background": "light"
     },
     "output_type": "display_data"
    }
   ],
   "source": [
    "df_plot.plot(y=\"accuracy\")"
   ]
  },
  {
   "cell_type": "code",
   "execution_count": 129,
   "metadata": {},
   "outputs": [
    {
     "name": "stdout",
     "output_type": "stream",
     "text": [
      "1/1 - 0s - loss: 0.9365 - accuracy: 0.4583\n",
      "Loss: 0.936537504196167, Accuracy: 0.4583333432674408\n"
     ]
    }
   ],
   "source": [
    "model_loss, model_accuracy = nn.evaluate(X_test_scaled, y_test, verbose=2)\n",
    "print(f\"Loss: {model_loss}, Accuracy: {model_accuracy}\")"
   ]
  },
  {
   "cell_type": "code",
   "execution_count": null,
   "metadata": {},
   "outputs": [],
   "source": []
  }
 ],
 "metadata": {
  "kernelspec": {
   "display_name": "Python 3",
   "language": "python",
   "name": "python3"
  },
  "language_info": {
   "codemirror_mode": {
    "name": "ipython",
    "version": 3
   },
   "file_extension": ".py",
   "mimetype": "text/x-python",
   "name": "python",
   "nbconvert_exporter": "python",
   "pygments_lexer": "ipython3",
   "version": "3.7.7"
  }
 },
 "nbformat": 4,
 "nbformat_minor": 4
}
