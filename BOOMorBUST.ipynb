{
 "cells": [
  {
   "cell_type": "code",
   "execution_count": 187,
   "metadata": {},
   "outputs": [],
   "source": [
    "import os\n",
    "from pathlib import Path\n",
    "import pandas as pd\n",
    "from newsapi import NewsApiClient\n",
    "import nltk\n",
    "from nltk.sentiment.vader import SentimentIntensityAnalyzer\n",
    "from dotenv import load_dotenv\n",
    "load_dotenv()\n",
    "analyzer = SentimentIntensityAnalyzer()"
   ]
  },
  {
   "cell_type": "code",
   "execution_count": 188,
   "metadata": {},
   "outputs": [],
   "source": [
    "# news api for collecting data\n",
    "api_key = os.getenv(\"NEWS_API_KEY\")\n",
    "newsapi = NewsApiClient(api_key=api_key)"
   ]
  },
  {
   "cell_type": "code",
   "execution_count": 189,
   "metadata": {},
   "outputs": [
    {
     "data": {
      "text/html": [
       "<div>\n",
       "<style scoped>\n",
       "    .dataframe tbody tr th:only-of-type {\n",
       "        vertical-align: middle;\n",
       "    }\n",
       "\n",
       "    .dataframe tbody tr th {\n",
       "        vertical-align: top;\n",
       "    }\n",
       "\n",
       "    .dataframe thead th {\n",
       "        text-align: right;\n",
       "    }\n",
       "</style>\n",
       "<table border=\"1\" class=\"dataframe\">\n",
       "  <thead>\n",
       "    <tr style=\"text-align: right;\">\n",
       "      <th></th>\n",
       "      <th>Symbol</th>\n",
       "      <th>Company Name</th>\n",
       "      <th>Price Performance (4 Weeks)</th>\n",
       "      <th>Sector</th>\n",
       "      <th>Market Capitalization</th>\n",
       "      <th>Binary</th>\n",
       "    </tr>\n",
       "  </thead>\n",
       "  <tbody>\n",
       "    <tr>\n",
       "      <th>0</th>\n",
       "      <td>RHHBF</td>\n",
       "      <td>Roche Holding AG</td>\n",
       "      <td>-5.28026</td>\n",
       "      <td>Health Care</td>\n",
       "      <td>$2.39T</td>\n",
       "      <td>1</td>\n",
       "    </tr>\n",
       "  </tbody>\n",
       "</table>\n",
       "</div>"
      ],
      "text/plain": [
       "  Symbol      Company Name  Price Performance (4 Weeks)       Sector  \\\n",
       "0  RHHBF  Roche Holding AG                     -5.28026  Health Care   \n",
       "\n",
       "  Market Capitalization  Binary  \n",
       "0                $2.39T       1  "
      ]
     },
     "execution_count": 189,
     "metadata": {},
     "output_type": "execute_result"
    }
   ],
   "source": [
    "# import our initial batch of 20 companies (10 bankrupt, 10 healthy)\n",
    "filepath = Path(\"../Project_2/Stocks_MasterList_Test.csv\")\n",
    "stocks_df = pd.read_csv(filepath, parse_dates=True, infer_datetime_format=True)\n",
    "stocks_df.head(41)"
   ]
  },
  {
   "cell_type": "code",
   "execution_count": 190,
   "metadata": {},
   "outputs": [
    {
     "data": {
      "text/html": [
       "<div>\n",
       "<style scoped>\n",
       "    .dataframe tbody tr th:only-of-type {\n",
       "        vertical-align: middle;\n",
       "    }\n",
       "\n",
       "    .dataframe tbody tr th {\n",
       "        vertical-align: top;\n",
       "    }\n",
       "\n",
       "    .dataframe thead th {\n",
       "        text-align: right;\n",
       "    }\n",
       "</style>\n",
       "<table border=\"1\" class=\"dataframe\">\n",
       "  <thead>\n",
       "    <tr style=\"text-align: right;\">\n",
       "      <th></th>\n",
       "      <th>Symbol</th>\n",
       "      <th>Company Name</th>\n",
       "    </tr>\n",
       "  </thead>\n",
       "  <tbody>\n",
       "    <tr>\n",
       "      <th>0</th>\n",
       "      <td>RHHBF</td>\n",
       "      <td>Roche Holding AG</td>\n",
       "    </tr>\n",
       "  </tbody>\n",
       "</table>\n",
       "</div>"
      ],
      "text/plain": [
       "  Symbol      Company Name\n",
       "0  RHHBF  Roche Holding AG"
      ]
     },
     "execution_count": 190,
     "metadata": {},
     "output_type": "execute_result"
    }
   ],
   "source": [
    "company_info_df = stocks_df[['Symbol', 'Company Name']].copy()\n",
    "company_info_df.head()"
   ]
  },
  {
   "cell_type": "code",
   "execution_count": 191,
   "metadata": {},
   "outputs": [
    {
     "name": "stdout",
     "output_type": "stream",
     "text": [
      "['RHHBF AND Roche Holding AG']\n"
     ]
    }
   ],
   "source": [
    "search_list = []\n",
    "\n",
    "for index, row in company_info_df.iterrows():\n",
    "    ticker = row['Symbol']\n",
    "    company_name = row['Company Name']\n",
    "    search_string = ticker + ' ' + \"AND\" + ' ' + company_name\n",
    "    search_list.append(search_string)\n",
    "\n",
    "print(search_list)"
   ]
  },
  {
   "cell_type": "code",
   "execution_count": 1,
   "metadata": {},
   "outputs": [
    {
     "ename": "NameError",
     "evalue": "name 'pd' is not defined",
     "output_type": "error",
     "traceback": [
      "\u001b[1;31m---------------------------------------------------------------------------\u001b[0m",
      "\u001b[1;31mNameError\u001b[0m                                 Traceback (most recent call last)",
      "\u001b[1;32m<ipython-input-1-44251a0d5297>\u001b[0m in \u001b[0;36m<module>\u001b[1;34m\u001b[0m\n\u001b[0;32m     99\u001b[0m \u001b[1;33m\u001b[0m\u001b[0m\n\u001b[0;32m    100\u001b[0m \u001b[1;31m# begin the actual function for NLP\u001b[0m\u001b[1;33m\u001b[0m\u001b[1;33m\u001b[0m\u001b[1;33m\u001b[0m\u001b[0m\n\u001b[1;32m--> 101\u001b[1;33m \u001b[0mfinal_sentiment_df\u001b[0m \u001b[1;33m=\u001b[0m \u001b[0mpd\u001b[0m\u001b[1;33m.\u001b[0m\u001b[0mDataFrame\u001b[0m\u001b[1;33m(\u001b[0m\u001b[0mcolumns\u001b[0m\u001b[1;33m=\u001b[0m\u001b[1;33m[\u001b[0m\u001b[1;34m'name'\u001b[0m\u001b[1;33m,\u001b[0m \u001b[1;34m'compound'\u001b[0m\u001b[1;33m,\u001b[0m \u001b[1;34m'positive'\u001b[0m\u001b[1;33m,\u001b[0m \u001b[1;34m'negative'\u001b[0m\u001b[1;33m,\u001b[0m \u001b[1;34m'neutral'\u001b[0m\u001b[1;33m]\u001b[0m\u001b[1;33m)\u001b[0m\u001b[1;33m\u001b[0m\u001b[1;33m\u001b[0m\u001b[0m\n\u001b[0m\u001b[0;32m    102\u001b[0m \u001b[0mcompany_sentiments\u001b[0m \u001b[1;33m=\u001b[0m \u001b[1;33m[\u001b[0m\u001b[1;33m]\u001b[0m\u001b[1;33m\u001b[0m\u001b[1;33m\u001b[0m\u001b[0m\n\u001b[0;32m    103\u001b[0m \u001b[1;33m\u001b[0m\u001b[0m\n",
      "\u001b[1;31mNameError\u001b[0m: name 'pd' is not defined"
     ]
    }
   ],
   "source": [
    "# GME,AAPL,TSLA,FB,PFE,PLTR,AMC,AMZN,GOOGL,NFLX,MSFT,NVDA,T,SBUX,CRM,CMG,WFC,MRNA,BYND,NKLA\n",
    "\n",
    "# used this list to test stocks, given stocks only work with newsapi if they are common\n",
    "search_list = ['facebook', \n",
    "               'apple', \n",
    "               'tesla', \n",
    "               'google', \n",
    "               'palantir', \n",
    "               'amc', \n",
    "               'amazon', \n",
    "               'netflix', \n",
    "               'at&t', \n",
    "               'nvidia', \n",
    "               'pfizer', \n",
    "               'moderna', \n",
    "               'nikola', \n",
    "               'beyond meat', \n",
    "               'gamestop', \n",
    "               'starbucks', \n",
    "               'wells fargo', \n",
    "               'salesforce', \n",
    "               'microsoft',\n",
    "               'verizon',\n",
    "              'Carnival Cruise',\n",
    "              'Macys',\n",
    "              'Nordstrom',\n",
    "              'Teladoc',\n",
    "              'Norwegian Cruise',\n",
    "              'Peloton',\n",
    "              'Lululemon',\n",
    "              'Wayfair',\n",
    "              'Chevron',\n",
    "              'Royal Caribbean Cruise',\n",
    "              'Softbank',\n",
    "              'AstraZeneca',\n",
    "              'Johnson & Johnson',\n",
    "              'Twitter',\n",
    "              'Costco',\n",
    "              'Zillow',\n",
    "              'Gilead',\n",
    "              'Boeing',\n",
    "              'Okta',\n",
    "              'Nike',\n",
    "              'Home Depot',\n",
    "              'Shopify',\n",
    "              'Uber',\n",
    "              'Lyft',\n",
    "              'Doordash',\n",
    "              'Airbnb',\n",
    "              'PayPal',\n",
    "              'Snowflake',\n",
    "              'Quantumscape',\n",
    "              'Activision',\n",
    "              'DraftKings',\n",
    "              'Lordstown',\n",
    "              'Walgreens',\n",
    "              'Spotify',\n",
    "              'Fubotv',\n",
    "              'Northrop Grumman',\n",
    "              'Berkshire Hathaway',\n",
    "              'Cisco',\n",
    "              'Ebay',\n",
    "              'Qualcomm',\n",
    "              'Corning',\n",
    "              'Oracle',\n",
    "              'Intel',\n",
    "              'Seagate',\n",
    "              'Nextera',\n",
    "              'Zscaler',\n",
    "              'Crowdstrike',\n",
    "              'Redfin',\n",
    "              'Roblox',\n",
    "              'Citigroup',\n",
    "              'Docusign',\n",
    "              'Amgen',\n",
    "              'Regeneron',\n",
    "              'Medtronic',\n",
    "              'Microsoft',\n",
    "              'ArcelorMittal',\n",
    "              'Mattel',\n",
    "              'Schlumberger',\n",
    "              'Ford',\n",
    "              'Intuit',\n",
    "              'Pepsi',\n",
    "              'Stryker',\n",
    "              'Walmart',\n",
    "              'Hasbro',\n",
    "              'Novartis',\n",
    "              'Toyota',\n",
    "              'Mastercard',\n",
    "              'Fortinet',\n",
    "              'Groupon',\n",
    "              'Autodesk',\n",
    "              'ServiceNow',\n",
    "              'Fireeye',\n",
    "              'Proofpoint',\n",
    "              'Qualys',\n",
    "              'Fastly']\n",
    "\n",
    "# begin the actual function for NLP\n",
    "final_sentiment_df = pd.DataFrame(columns=['name', 'compound', 'positive', 'negative', 'neutral'])\n",
    "company_sentiments = []\n",
    "\n",
    "for search_string in search_list:\n",
    "    company_headlines = newsapi.get_everything(\n",
    "        q = search_string, \n",
    "        language = \"en\", \n",
    "        page_size = 100,\n",
    "        sort_by = \"relevancy\")\n",
    "\n",
    "    for article in company_headlines[\"articles\"]:\n",
    "        try: \n",
    "            text = article[\"content\"]\n",
    "            date = article[\"publishedAt\"][:10] \n",
    "            sentiment = analyzer.polarity_scores(text)\n",
    "            compound = sentiment[\"compound\"]\n",
    "            pos = sentiment[\"pos\"]\n",
    "            neu = sentiment[\"neu\"]\n",
    "            neg = sentiment[\"neg\"]\n",
    "        \n",
    "            company_sentiments.append({\n",
    "                \"text\": text,\n",
    "                \"date\": date,\n",
    "                \"compound\": compound,\n",
    "                \"positive\": pos,\n",
    "                \"negative\": neg,\n",
    "                \"neutral\": neu})\n",
    "        except AttributeError:\n",
    "            pass\n",
    "            \n",
    "    sentiment_df = pd.DataFrame(company_sentiments) \n",
    "    cols = [\"date\", \"text\", \"compound\", \"positive\", \"negative\", \"neutral\"]\n",
    "    sentiment_df = sentiment_df[cols]\n",
    "    sentiment_stats_df = sentiment_df.describe()\n",
    "    sentiment_stats_df.reset_index(drop=True, inplace=True)\n",
    "    \n",
    "    not_final_sentiment_df = pd.DataFrame()\n",
    "    not_final_sentiment_df[\"name\"] = [search_string]\n",
    "    not_final_sentiment_df[\"compound\"] = [sentiment_stats_df.loc[1]['compound']]\n",
    "    not_final_sentiment_df[\"positive\"] = [sentiment_stats_df.loc[1]['positive']]\n",
    "    not_final_sentiment_df[\"negative\"] = [sentiment_stats_df.loc[1]['negative']]\n",
    "    not_final_sentiment_df[\"neutral\"] = [sentiment_stats_df.loc[1]['neutral']]\n",
    "    \n",
    "    final_sentiment_df = final_sentiment_df.append(not_final_sentiment_df, ignore_index=True)\n",
    "    \n",
    "print(final_sentiment_df)"
   ]
  },
  {
   "cell_type": "code",
   "execution_count": null,
   "metadata": {},
   "outputs": [],
   "source": []
  },
  {
   "cell_type": "code",
   "execution_count": null,
   "metadata": {},
   "outputs": [],
   "source": []
  },
  {
   "cell_type": "code",
   "execution_count": null,
   "metadata": {},
   "outputs": [],
   "source": []
  },
  {
   "cell_type": "code",
   "execution_count": null,
   "metadata": {},
   "outputs": [],
   "source": []
  },
  {
   "cell_type": "code",
   "execution_count": null,
   "metadata": {},
   "outputs": [],
   "source": []
  },
  {
   "cell_type": "code",
   "execution_count": null,
   "metadata": {},
   "outputs": [],
   "source": []
  },
  {
   "cell_type": "code",
   "execution_count": null,
   "metadata": {},
   "outputs": [],
   "source": []
  },
  {
   "cell_type": "code",
   "execution_count": null,
   "metadata": {},
   "outputs": [],
   "source": []
  },
  {
   "cell_type": "code",
   "execution_count": null,
   "metadata": {},
   "outputs": [],
   "source": []
  }
 ],
 "metadata": {
  "kernelspec": {
   "display_name": "Python 3",
   "language": "python",
   "name": "python3"
  },
  "language_info": {
   "codemirror_mode": {
    "name": "ipython",
    "version": 3
   },
   "file_extension": ".py",
   "mimetype": "text/x-python",
   "name": "python",
   "nbconvert_exporter": "python",
   "pygments_lexer": "ipython3",
   "version": "3.7.9"
  }
 },
 "nbformat": 4,
 "nbformat_minor": 4
}
